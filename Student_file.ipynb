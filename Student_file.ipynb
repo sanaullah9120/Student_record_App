{
 "cells": [
  {
   "cell_type": "markdown",
   "id": "90c74215-922f-47d6-9518-321b0e9f9a8b",
   "metadata": {},
   "source": [
    "<h1 allign=\"center\" >Assignment Title:\"Student Notes Manager — A File Handling Practice App\"\n",
    "\n",
    "</h1>"
   ]
  },
  {
   "cell_type": "code",
   "execution_count": 11,
   "id": "cf29ec90-ce1e-49f2-a1a3-96cda8b90689",
   "metadata": {},
   "outputs": [],
   "source": [
    "# step-0 import datetime module\n",
    "from datetime import datetime\n",
    "# Step 1: Function – Add New Note\n",
    "def add_new_note():\n",
    "    \n",
    "    name = input(\"Enter name of student:\")\n",
    "    subject = input(\"Enter subject name:\")\n",
    "    note = input(\"Enter note content:\")\n",
    "\n",
    "    timestamp = datetime.now().strftime(\"%y-%m-%d %H:%M:%S\")\n",
    "\n",
    "    # Yahan hum ek proper formatted entry bana rahe hain jo file mein likhni hai. '-'*40 ka matlab 40 dash lines.\n",
    "\n",
    "    entry = f\"Datetime:{timestamp}\\nName:{name}\\nSubject:{subject}\\nNote:{note}\\n{\"-\"*40}\\n\"\n",
    "\n",
    "    # File ko \"w\" mode mein open kiya — yani overwrite karegi ,entry file mein likh di\n",
    "    with open(\"student_notes.txt\",\"w\")as file:\n",
    "        file.write(entry)\n",
    "\n",
    "    print(\"New note saved successfully\") #User ko confirm message dikhaya\n",
    "\n",
    "\n"
   ]
  },
  {
   "cell_type": "code",
   "execution_count": 4,
   "id": "7a9587f3-6a2a-4bb5-9a5e-0ed3e01b7039",
   "metadata": {},
   "outputs": [],
   "source": [
    "# Step 2:Creat Function – View Notes (read a file)\n",
    "def view_notes():\n",
    "    try:\n",
    "        with open(\"student_notes.txt\",\"r\")as file:  # File ko read mode mein khola\n",
    "            content = file.read()     # Uska poora content read() karke ek string mein store kiya\n",
    "            if content.strip() == \"\":  # gar file empty hai (strip karke check kiya) to message dikhaya\n",
    "                print(\"NO notes find\")\n",
    "            else:\n",
    "                print(\"\\n===All Notes===\")\n",
    "                print(content)\n",
    "    except FileNotFoundError:   # Agar file hi nahi bani ab tak to yeh error handle karega\n",
    "        print(\"file not found\")\n",
    "        \n",
    "                \n",
    "\n",
    "\n",
    "\n"
   ]
  },
  {
   "cell_type": "code",
   "execution_count": 6,
   "id": "743b4f83-aeed-4c36-9c32-b4a7aa7e9935",
   "metadata": {},
   "outputs": [],
   "source": [
    "# Step 3:Creat Function –that Append More Notes of user\n",
    "def append_note():   # User se naya note ka input le rahe hain\n",
    "    name = input(\"Enter student name:\")\n",
    "    subject = input(\"Enter subject:\")\n",
    "    note = input(\"Enter note content:\") \n",
    "    timestamp = datetime.now().strftime(\"%y-%m-%d %H:%M:%S\")\n",
    "\n",
    "    entry = f\"Time:{timestamp}\\nName:{name}\\nSubject:{subject}\\nNote:{note}\\n{\"-\"*40}\\n\"\n",
    "    with open(\"student_notes.txt\",\"a\")as file:  # \"a\" mode ka use kiya — yani append karega\n",
    "\n",
    "\n",
    "        file.write(entry)  # Entry file mein likh di without deleting old notes\n",
    "        print(\" Note added successfully!\")\n",
    "\n",
    "\n",
    "\n"
   ]
  },
  {
   "cell_type": "code",
   "execution_count": 10,
   "id": "dfdbb8eb-004d-49cd-ad95-9949d911701b",
   "metadata": {},
   "outputs": [],
   "source": [
    "# Step 4: Function – Search by Student Name\n",
    "def search_name():\n",
    "    search_name = input(\"Enter name to search:\").lower()\n",
    "    found = False  #User se naam poocha jisko dhoondhna hai, aur found ko False set kiya\n",
    "    try:\n",
    "        with open(\"student_notes.txt\",\"r\")as file:\n",
    "            lines = file.readlines()  # File ko read kiya line-by-line\n",
    "            entry = \"\" # entry naam ka empty string banaya har ek full note collect karne ke liye\n",
    "            for line in lines:\n",
    "                entry += line  # Har line entry mein jor rahe hain\n",
    "                if line.strip() ==\"-\"*40:  # Jab 40 dashes milein, matlab ek entry complete hai\n",
    "\n",
    "\n",
    "                    if search_name in entry.lower(): # Check kar rahe hain kya us entry mein search_name hai?\n",
    "                        print(\"\\nfound entry:\",entry)  #Agar haan, to us entry ko print karo\n",
    "                        found = True\n",
    "                    entry = \"\"\n",
    "                    \n",
    "            if not found:\n",
    "                print(\"NO note found for that name:\")\n",
    "    except FileNotFoundError:\n",
    "        print(\"Note file not found. Please add a note first.\")\n",
    "                        "
   ]
  },
  {
   "cell_type": "code",
   "execution_count": 13,
   "id": "9322a90a-28c0-4332-ad2b-de976c1d7774",
   "metadata": {},
   "outputs": [],
   "source": [
    "#  Step 5: Create a Function – Clear All Notes of file\n",
    "def clear_notes():\n",
    "    with open(\"student_notes.txt\",\"w\")as file:\n",
    "        file.write(\"\")                    # File ko \"w\" mode mein open karke blank likh diya — yani file clear ho gayi.\n",
    "        print(\"All notes cleared\") "
   ]
  },
  {
   "cell_type": "code",
   "execution_count": 14,
   "id": "80f3068b-da61-4ee5-abd1-4724b0aa585a",
   "metadata": {},
   "outputs": [
    {
     "name": "stdout",
     "output_type": "stream",
     "text": [
      "\n",
      "===Student Notes Manager===\n",
      "1- Add new note(overwrite)\n",
      "2- View all notes\n",
      "3- Append more notes\n",
      "4- Search note by name\n",
      "5- Clear all notes\n",
      "6- Exist\n"
     ]
    },
    {
     "name": "stdin",
     "output_type": "stream",
     "text": [
      "choose an option from (1 to 6): 1\n",
      "Enter name of student: tahir\n",
      "Enter subject name: physics\n",
      "Enter note content: professor of physics\n"
     ]
    },
    {
     "name": "stdout",
     "output_type": "stream",
     "text": [
      "New note saved successfully\n",
      "\n",
      "===Student Notes Manager===\n",
      "1- Add new note(overwrite)\n",
      "2- View all notes\n",
      "3- Append more notes\n",
      "4- Search note by name\n",
      "5- Clear all notes\n",
      "6- Exist\n"
     ]
    },
    {
     "name": "stdin",
     "output_type": "stream",
     "text": [
      "choose an option from (1 to 6): 2\n"
     ]
    },
    {
     "name": "stdout",
     "output_type": "stream",
     "text": [
      "\n",
      "===All Notes===\n",
      "Datetime:25-05-13 09:18:34\n",
      "Name:tahir\n",
      "Subject:physics\n",
      "Note:professor of physics\n",
      "----------------------------------------\n",
      "\n",
      "\n",
      "===Student Notes Manager===\n",
      "1- Add new note(overwrite)\n",
      "2- View all notes\n",
      "3- Append more notes\n",
      "4- Search note by name\n",
      "5- Clear all notes\n",
      "6- Exist\n"
     ]
    },
    {
     "name": "stdin",
     "output_type": "stream",
     "text": [
      "choose an option from (1 to 6): 5\n"
     ]
    },
    {
     "name": "stdout",
     "output_type": "stream",
     "text": [
      "All notes cleared\n",
      "\n",
      "===Student Notes Manager===\n",
      "1- Add new note(overwrite)\n",
      "2- View all notes\n",
      "3- Append more notes\n",
      "4- Search note by name\n",
      "5- Clear all notes\n",
      "6- Exist\n"
     ]
    },
    {
     "name": "stdin",
     "output_type": "stream",
     "text": [
      "choose an option from (1 to 6): 6\n"
     ]
    },
    {
     "name": "stdout",
     "output_type": "stream",
     "text": [
      "Goodbay\n"
     ]
    }
   ],
   "source": [
    "# Step 6: Main Menu Loop\n",
    "while True:\n",
    "    print(\"\\n===Student Notes Manager===\")\n",
    "    print(\"1- Add new note(overwrite)\")\n",
    "    print(\"2- View all notes\")\n",
    "    print(\"3- Append more notes\")\n",
    "    print(\"4- Search note by name\")\n",
    "    print(\"5- Clear all notes\")\n",
    "    print(\"6- Exist\")\n",
    "\n",
    "    choice = input(\"choose an option from (1 to 6):\")\n",
    "\n",
    "    if choice == \"1\":\n",
    "        add_new_note()\n",
    "    elif choice == \"2\":\n",
    "        view_notes()\n",
    "    elif choice == \"3\":\n",
    "        append_note()\n",
    "    elif choice == \"4\":\n",
    "        search_name()\n",
    "    elif choice == \"5\":\n",
    "        clear_notes()\n",
    "    elif choice == \"6\":\n",
    "        print(\"Goodbay\")\n",
    "        break\n",
    "    else:\n",
    "        print(\"Invalid choice,please choose from 1 to 6.\")\n",
    "        \n",
    "        \n",
    "    "
   ]
  },
  {
   "cell_type": "code",
   "execution_count": null,
   "id": "e1346f1d-9afe-4cc1-9a30-bf2e24b66646",
   "metadata": {},
   "outputs": [],
   "source": []
  },
  {
   "cell_type": "code",
   "execution_count": null,
   "id": "292633c1-51a0-4128-9a49-17eeea588b2c",
   "metadata": {},
   "outputs": [],
   "source": []
  }
 ],
 "metadata": {
  "kernelspec": {
   "display_name": "Python 3 (ipykernel)",
   "language": "python",
   "name": "python3"
  },
  "language_info": {
   "codemirror_mode": {
    "name": "ipython",
    "version": 3
   },
   "file_extension": ".py",
   "mimetype": "text/x-python",
   "name": "python",
   "nbconvert_exporter": "python",
   "pygments_lexer": "ipython3",
   "version": "3.12.4"
  }
 },
 "nbformat": 4,
 "nbformat_minor": 5
}
